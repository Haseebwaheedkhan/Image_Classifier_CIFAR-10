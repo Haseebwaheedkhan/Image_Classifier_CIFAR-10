{
 "cells": [
  {
   "cell_type": "code",
   "execution_count": null,
   "id": "80034fbe",
   "metadata": {},
   "outputs": [],
   "source": []
  },
  {
   "cell_type": "code",
   "execution_count": 11,
   "id": "3f5d3809",
   "metadata": {},
   "outputs": [],
   "source": [
    "# Loading Libraries\n",
    "import torch\n",
    "import torchvision\n",
    "import torchvision.transforms as transforms"
   ]
  },
  {
   "cell_type": "code",
   "execution_count": 17,
   "id": "867aa24f",
   "metadata": {},
   "outputs": [],
   "source": [
    "transform = tranforms.Compose({\n",
    "    #Converting image to tensor\n",
    "    transforms.ToTensor(),\n",
    "    # Normalize the data to {-1, 1}\n",
    "    transforms.Normalize(\n",
    "        #Mean\n",
    "        (0.5,0.5,0.5),\n",
    "        #Std\n",
    "        (0.5,0.5,0.5)\n",
    "    )\n",
    "    \n",
    "})"
   ]
  },
  {
   "cell_type": "code",
   "execution_count": null,
   "id": "8956b1a5",
   "metadata": {},
   "outputs": [
    {
     "name": "stdout",
     "output_type": "stream",
     "text": [
      "Downloading https://www.cs.toronto.edu/~kriz/cifar-10-python.tar.gz to ./data\\cifar-10-python.tar.gz\n"
     ]
    },
    {
     "data": {
      "application/vnd.jupyter.widget-view+json": {
       "model_id": "3605d244c2604015a7371408029dd9cc",
       "version_major": 2,
       "version_minor": 0
      },
      "text/plain": [
       "  0%|          | 0/170498071 [00:00<?, ?it/s]"
      ]
     },
     "metadata": {},
     "output_type": "display_data"
    }
   ],
   "source": [
    "trainset = torchvision.datasets.CIFAR10(\n",
    "    root = './data',\n",
    "    download = True,\n",
    "    train = True,\n",
    "    transform = transform\n",
    ")"
   ]
  },
  {
   "cell_type": "code",
   "execution_count": null,
   "id": "d4db7d80",
   "metadata": {},
   "outputs": [],
   "source": [
    "testValidSet = torchvision.datasets.CIFAR10(\n",
    "    root = './data',\n",
    "    download = True,\n",
    "    train = False,\n",
    "    transform = transform\n",
    ")\n"
   ]
  },
  {
   "cell_type": "code",
   "execution_count": null,
   "id": "60e5c5e8",
   "metadata": {},
   "outputs": [],
   "source": [
    "validSet, testSet = torch.utils.data.random_split(\n",
    "testValidSet,\n",
    "    [5000,5000]\n",
    ")"
   ]
  },
  {
   "cell_type": "code",
   "execution_count": null,
   "id": "6861e217",
   "metadata": {},
   "outputs": [],
   "source": [
    "# Create Valid Dataloader\n",
    "validLoader = torch.utils.data.DataLoader(\n",
    "validSet,\n",
    "batch_size = batch_size,\n",
    "shuffle = False,\n",
    "num_workers=2\n",
    ")"
   ]
  },
  {
   "cell_type": "code",
   "execution_count": null,
   "id": "4d46cd45",
   "metadata": {},
   "outputs": [],
   "source": [
    "# Create dataloader\n",
    "\n",
    "batch_size = 128\n",
    "\n",
    "trainLoader = torch.utils.data.Dataloader(\n",
    "    trainset,\n",
    "    batch_size=batch_size,\n",
    "    shuffle=True\n",
    "    num_workers=2\n",
    "\n",
    ")"
   ]
  },
  {
   "cell_type": "code",
   "execution_count": null,
   "id": "fb4f3c89",
   "metadata": {},
   "outputs": [],
   "source": [
    "for data in trainLoader:\n",
    "    # this will return 2 i.e \n",
    "#     data[0] = Complete batch of images (batchsize,chaneels,pixcel_x,pixces_y)\n",
    "#     data[1] = Complete batach of Labels (batchsize, labels)\n",
    "    print(len(data)) "
   ]
  },
  {
   "cell_type": "code",
   "execution_count": null,
   "id": "67a1c904",
   "metadata": {},
   "outputs": [],
   "source": [
    "for data in trainLoader:\n",
    "    # this will return size of image with batch size i.e \n",
    "#     data[0] = Complete batch of images (batchsize,chaneels,pixcel_x,pixces_y)\n",
    "#     data[1] = Complete batach of Labels (batchsize, labels)\n",
    "    print(data[0].shape) "
   ]
  },
  {
   "cell_type": "code",
   "execution_count": null,
   "id": "4fe02ede",
   "metadata": {},
   "outputs": [],
   "source": [
    "for data in trainLoader:\n",
    "    # this will return size of image labels with batch size i.e \n",
    "#     data[0] = Complete batch of images (batchsize,chaneels,pixcel_x,pixces_y)\n",
    "#     data[1] = Complete batach of Labels (batchsize, labels)\n",
    "    print(data[1].shape) "
   ]
  }
 ],
 "metadata": {
  "kernelspec": {
   "display_name": "Python 3 (ipykernel)",
   "language": "python",
   "name": "python3"
  },
  "language_info": {
   "codemirror_mode": {
    "name": "ipython",
    "version": 3
   },
   "file_extension": ".py",
   "mimetype": "text/x-python",
   "name": "python",
   "nbconvert_exporter": "python",
   "pygments_lexer": "ipython3",
   "version": "3.9.13"
  }
 },
 "nbformat": 4,
 "nbformat_minor": 5
}
